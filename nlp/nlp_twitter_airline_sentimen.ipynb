{
  "nbformat": 4,
  "nbformat_minor": 0,
  "metadata": {
    "kernelspec": {
      "display_name": "Python 3",
      "language": "python",
      "name": "python3"
    },
    "language_info": {
      "codemirror_mode": {
        "name": "ipython",
        "version": 3
      },
      "file_extension": ".py",
      "mimetype": "text/x-python",
      "name": "python",
      "nbconvert_exporter": "python",
      "pygments_lexer": "ipython3",
      "version": "3.7.6"
    },
    "colab": {
      "name": "NLP_Twitter_United_Bhavin_Shah_Project.ipynb",
      "provenance": [],
      "collapsed_sections": []
    }
  },
  "cells": [
    {
      "cell_type": "code",
      "metadata": {
        "colab": {
          "base_uri": "https://localhost:8080/"
        },
        "id": "anDmwMJsQdeR",
        "outputId": "5db75c03-bfab-40e1-9c7d-d12c21967884"
      },
      "source": [
        "import pandas as pd\n",
        "import numpy as np\n",
        "import nltk                               # Natural language processing tool-kit\n",
        "from nltk.corpus import stopwords         # Import stopwords.\n",
        "from nltk import word_tokenize, sent_tokenize\n",
        "import re, unicodedata                    # Regular Expression\n",
        "from bs4 import BeautifulSoup             # Beautiful soup is a parsing library that can use different parsers.\n",
        "import spacy\n",
        "import warnings\n",
        "from google.colab import drive\n",
        "nltk.download('stopwords')                # Download Stopwords.\n",
        "nltk.download('punkt')\n",
        "nltk.download('wordnet')\n",
        "!pip install contractions\n",
        "import contractions\n",
        "from nltk.stem.wordnet import WordNetLemmatizer         # Import Lemmatizer.\n",
        "from sklearn.feature_extraction.text import CountVectorizer, TfidfVectorizer\n",
        "from numpy import asarray\n",
        "from sklearn import preprocessing\n",
        "from sklearn.model_selection import train_test_split\n",
        "from sklearn.metrics import confusion_matrix\n",
        "from sklearn.ensemble import RandomForestClassifier\n",
        "from sklearn.model_selection import cross_val_score"
      ],
      "execution_count": 1,
      "outputs": [
        {
          "output_type": "stream",
          "text": [
            "[nltk_data] Downloading package stopwords to /root/nltk_data...\n",
            "[nltk_data]   Package stopwords is already up-to-date!\n",
            "[nltk_data] Downloading package punkt to /root/nltk_data...\n",
            "[nltk_data]   Package punkt is already up-to-date!\n",
            "[nltk_data] Downloading package wordnet to /root/nltk_data...\n",
            "[nltk_data]   Package wordnet is already up-to-date!\n",
            "Requirement already satisfied: contractions in /usr/local/lib/python3.6/dist-packages (0.0.45)\n",
            "Requirement already satisfied: textsearch in /usr/local/lib/python3.6/dist-packages (from contractions) (0.0.17)\n",
            "Requirement already satisfied: Unidecode in /usr/local/lib/python3.6/dist-packages (from textsearch->contractions) (1.1.2)\n",
            "Requirement already satisfied: pyahocorasick in /usr/local/lib/python3.6/dist-packages (from textsearch->contractions) (1.4.1)\n"
          ],
          "name": "stdout"
        }
      ]
    },
    {
      "cell_type": "markdown",
      "metadata": {
        "id": "Ruyz2SQCQdec"
      },
      "source": [
        "### 1. Import the libraries, load dataset, print shape of data, data descriptions"
      ]
    },
    {
      "cell_type": "code",
      "metadata": {
        "colab": {
          "base_uri": "https://localhost:8080/"
        },
        "id": "SUksoxE0Qded",
        "outputId": "0ebef4c8-59b8-444b-b72d-f91a05b46b62"
      },
      "source": [
        "warnings.filterwarnings(\"ignore\")\n",
        "drive.mount('/content/drive')"
      ],
      "execution_count": 2,
      "outputs": [
        {
          "output_type": "stream",
          "text": [
            "Drive already mounted at /content/drive; to attempt to forcibly remount, call drive.mount(\"/content/drive\", force_remount=True).\n"
          ],
          "name": "stdout"
        }
      ]
    },
    {
      "cell_type": "code",
      "metadata": {
        "id": "YiAceOhxShNH"
      },
      "source": [
        "tweet_df = pd.read_csv('/content/drive/MyDrive/aiml/Tweets.csv')"
      ],
      "execution_count": 3,
      "outputs": []
    },
    {
      "cell_type": "code",
      "metadata": {
        "colab": {
          "base_uri": "https://localhost:8080/"
        },
        "id": "20x2sXJ3Qded",
        "outputId": "e7cece2a-54a3-4d67-cc5e-1f4e3fe08eba"
      },
      "source": [
        "tweet_df.shape"
      ],
      "execution_count": 4,
      "outputs": [
        {
          "output_type": "execute_result",
          "data": {
            "text/plain": [
              "(14640, 15)"
            ]
          },
          "metadata": {
            "tags": []
          },
          "execution_count": 4
        }
      ]
    },
    {
      "cell_type": "code",
      "metadata": {
        "colab": {
          "base_uri": "https://localhost:8080/"
        },
        "id": "b9-hkwjtQdee",
        "outputId": "c9e4d903-ec91-4d1f-e6ad-97056c491e12"
      },
      "source": [
        "tweet_df.columns.values"
      ],
      "execution_count": 5,
      "outputs": [
        {
          "output_type": "execute_result",
          "data": {
            "text/plain": [
              "array(['tweet_id', 'airline_sentiment', 'airline_sentiment_confidence',\n",
              "       'negativereason', 'negativereason_confidence', 'airline',\n",
              "       'airline_sentiment_gold', 'name', 'negativereason_gold',\n",
              "       'retweet_count', 'text', 'tweet_coord', 'tweet_created',\n",
              "       'tweet_location', 'user_timezone'], dtype=object)"
            ]
          },
          "metadata": {
            "tags": []
          },
          "execution_count": 5
        }
      ]
    },
    {
      "cell_type": "code",
      "metadata": {
        "colab": {
          "base_uri": "https://localhost:8080/",
          "height": 445
        },
        "id": "rxuNtZ9VQdee",
        "outputId": "bd0f44f0-20f7-43af-bdfd-4a798a7365a7"
      },
      "source": [
        "tweet_df.head()"
      ],
      "execution_count": 6,
      "outputs": [
        {
          "output_type": "execute_result",
          "data": {
            "text/html": [
              "<div>\n",
              "<style scoped>\n",
              "    .dataframe tbody tr th:only-of-type {\n",
              "        vertical-align: middle;\n",
              "    }\n",
              "\n",
              "    .dataframe tbody tr th {\n",
              "        vertical-align: top;\n",
              "    }\n",
              "\n",
              "    .dataframe thead th {\n",
              "        text-align: right;\n",
              "    }\n",
              "</style>\n",
              "<table border=\"1\" class=\"dataframe\">\n",
              "  <thead>\n",
              "    <tr style=\"text-align: right;\">\n",
              "      <th></th>\n",
              "      <th>tweet_id</th>\n",
              "      <th>airline_sentiment</th>\n",
              "      <th>airline_sentiment_confidence</th>\n",
              "      <th>negativereason</th>\n",
              "      <th>negativereason_confidence</th>\n",
              "      <th>airline</th>\n",
              "      <th>airline_sentiment_gold</th>\n",
              "      <th>name</th>\n",
              "      <th>negativereason_gold</th>\n",
              "      <th>retweet_count</th>\n",
              "      <th>text</th>\n",
              "      <th>tweet_coord</th>\n",
              "      <th>tweet_created</th>\n",
              "      <th>tweet_location</th>\n",
              "      <th>user_timezone</th>\n",
              "    </tr>\n",
              "  </thead>\n",
              "  <tbody>\n",
              "    <tr>\n",
              "      <th>0</th>\n",
              "      <td>570306133677760513</td>\n",
              "      <td>neutral</td>\n",
              "      <td>1.0000</td>\n",
              "      <td>NaN</td>\n",
              "      <td>NaN</td>\n",
              "      <td>Virgin America</td>\n",
              "      <td>NaN</td>\n",
              "      <td>cairdin</td>\n",
              "      <td>NaN</td>\n",
              "      <td>0</td>\n",
              "      <td>@VirginAmerica What @dhepburn said.</td>\n",
              "      <td>NaN</td>\n",
              "      <td>2015-02-24 11:35:52 -0800</td>\n",
              "      <td>NaN</td>\n",
              "      <td>Eastern Time (US &amp; Canada)</td>\n",
              "    </tr>\n",
              "    <tr>\n",
              "      <th>1</th>\n",
              "      <td>570301130888122368</td>\n",
              "      <td>positive</td>\n",
              "      <td>0.3486</td>\n",
              "      <td>NaN</td>\n",
              "      <td>0.0000</td>\n",
              "      <td>Virgin America</td>\n",
              "      <td>NaN</td>\n",
              "      <td>jnardino</td>\n",
              "      <td>NaN</td>\n",
              "      <td>0</td>\n",
              "      <td>@VirginAmerica plus you've added commercials t...</td>\n",
              "      <td>NaN</td>\n",
              "      <td>2015-02-24 11:15:59 -0800</td>\n",
              "      <td>NaN</td>\n",
              "      <td>Pacific Time (US &amp; Canada)</td>\n",
              "    </tr>\n",
              "    <tr>\n",
              "      <th>2</th>\n",
              "      <td>570301083672813571</td>\n",
              "      <td>neutral</td>\n",
              "      <td>0.6837</td>\n",
              "      <td>NaN</td>\n",
              "      <td>NaN</td>\n",
              "      <td>Virgin America</td>\n",
              "      <td>NaN</td>\n",
              "      <td>yvonnalynn</td>\n",
              "      <td>NaN</td>\n",
              "      <td>0</td>\n",
              "      <td>@VirginAmerica I didn't today... Must mean I n...</td>\n",
              "      <td>NaN</td>\n",
              "      <td>2015-02-24 11:15:48 -0800</td>\n",
              "      <td>Lets Play</td>\n",
              "      <td>Central Time (US &amp; Canada)</td>\n",
              "    </tr>\n",
              "    <tr>\n",
              "      <th>3</th>\n",
              "      <td>570301031407624196</td>\n",
              "      <td>negative</td>\n",
              "      <td>1.0000</td>\n",
              "      <td>Bad Flight</td>\n",
              "      <td>0.7033</td>\n",
              "      <td>Virgin America</td>\n",
              "      <td>NaN</td>\n",
              "      <td>jnardino</td>\n",
              "      <td>NaN</td>\n",
              "      <td>0</td>\n",
              "      <td>@VirginAmerica it's really aggressive to blast...</td>\n",
              "      <td>NaN</td>\n",
              "      <td>2015-02-24 11:15:36 -0800</td>\n",
              "      <td>NaN</td>\n",
              "      <td>Pacific Time (US &amp; Canada)</td>\n",
              "    </tr>\n",
              "    <tr>\n",
              "      <th>4</th>\n",
              "      <td>570300817074462722</td>\n",
              "      <td>negative</td>\n",
              "      <td>1.0000</td>\n",
              "      <td>Can't Tell</td>\n",
              "      <td>1.0000</td>\n",
              "      <td>Virgin America</td>\n",
              "      <td>NaN</td>\n",
              "      <td>jnardino</td>\n",
              "      <td>NaN</td>\n",
              "      <td>0</td>\n",
              "      <td>@VirginAmerica and it's a really big bad thing...</td>\n",
              "      <td>NaN</td>\n",
              "      <td>2015-02-24 11:14:45 -0800</td>\n",
              "      <td>NaN</td>\n",
              "      <td>Pacific Time (US &amp; Canada)</td>\n",
              "    </tr>\n",
              "  </tbody>\n",
              "</table>\n",
              "</div>"
            ],
            "text/plain": [
              "             tweet_id  ...               user_timezone\n",
              "0  570306133677760513  ...  Eastern Time (US & Canada)\n",
              "1  570301130888122368  ...  Pacific Time (US & Canada)\n",
              "2  570301083672813571  ...  Central Time (US & Canada)\n",
              "3  570301031407624196  ...  Pacific Time (US & Canada)\n",
              "4  570300817074462722  ...  Pacific Time (US & Canada)\n",
              "\n",
              "[5 rows x 15 columns]"
            ]
          },
          "metadata": {
            "tags": []
          },
          "execution_count": 6
        }
      ]
    },
    {
      "cell_type": "code",
      "metadata": {
        "colab": {
          "base_uri": "https://localhost:8080/"
        },
        "id": "HD0acjpPQdee",
        "outputId": "b4ffb560-44c3-44f6-9f48-d8d943dfcab5"
      },
      "source": [
        "tweet_df.shape"
      ],
      "execution_count": 7,
      "outputs": [
        {
          "output_type": "execute_result",
          "data": {
            "text/plain": [
              "(14640, 15)"
            ]
          },
          "metadata": {
            "tags": []
          },
          "execution_count": 7
        }
      ]
    },
    {
      "cell_type": "code",
      "metadata": {
        "colab": {
          "base_uri": "https://localhost:8080/"
        },
        "id": "3-KVGmhiQdef",
        "outputId": "928f5a8c-ac32-4aec-fe5b-82860fad8d1c"
      },
      "source": [
        "tweet_df.airline.unique()"
      ],
      "execution_count": 8,
      "outputs": [
        {
          "output_type": "execute_result",
          "data": {
            "text/plain": [
              "array(['Virgin America', 'United', 'Southwest', 'Delta', 'US Airways',\n",
              "       'American'], dtype=object)"
            ]
          },
          "metadata": {
            "tags": []
          },
          "execution_count": 8
        }
      ]
    },
    {
      "cell_type": "markdown",
      "metadata": {
        "id": "UR7091sZQdef"
      },
      "source": [
        "### 2. Understand of data-columns"
      ]
    },
    {
      "cell_type": "code",
      "metadata": {
        "colab": {
          "base_uri": "https://localhost:8080/",
          "height": 419
        },
        "id": "p1iJw0MbQdeg",
        "outputId": "05df5ad1-b301-4728-f20d-28bff12fdc7d"
      },
      "source": [
        "# Drop all other columns except \"text\" and \"ariline_sentiment\"\n",
        "tweet_mini_df = tweet_df[['text', 'airline_sentiment']]\n",
        "tweet_mini_df"
      ],
      "execution_count": 9,
      "outputs": [
        {
          "output_type": "execute_result",
          "data": {
            "text/html": [
              "<div>\n",
              "<style scoped>\n",
              "    .dataframe tbody tr th:only-of-type {\n",
              "        vertical-align: middle;\n",
              "    }\n",
              "\n",
              "    .dataframe tbody tr th {\n",
              "        vertical-align: top;\n",
              "    }\n",
              "\n",
              "    .dataframe thead th {\n",
              "        text-align: right;\n",
              "    }\n",
              "</style>\n",
              "<table border=\"1\" class=\"dataframe\">\n",
              "  <thead>\n",
              "    <tr style=\"text-align: right;\">\n",
              "      <th></th>\n",
              "      <th>text</th>\n",
              "      <th>airline_sentiment</th>\n",
              "    </tr>\n",
              "  </thead>\n",
              "  <tbody>\n",
              "    <tr>\n",
              "      <th>0</th>\n",
              "      <td>@VirginAmerica What @dhepburn said.</td>\n",
              "      <td>neutral</td>\n",
              "    </tr>\n",
              "    <tr>\n",
              "      <th>1</th>\n",
              "      <td>@VirginAmerica plus you've added commercials t...</td>\n",
              "      <td>positive</td>\n",
              "    </tr>\n",
              "    <tr>\n",
              "      <th>2</th>\n",
              "      <td>@VirginAmerica I didn't today... Must mean I n...</td>\n",
              "      <td>neutral</td>\n",
              "    </tr>\n",
              "    <tr>\n",
              "      <th>3</th>\n",
              "      <td>@VirginAmerica it's really aggressive to blast...</td>\n",
              "      <td>negative</td>\n",
              "    </tr>\n",
              "    <tr>\n",
              "      <th>4</th>\n",
              "      <td>@VirginAmerica and it's a really big bad thing...</td>\n",
              "      <td>negative</td>\n",
              "    </tr>\n",
              "    <tr>\n",
              "      <th>...</th>\n",
              "      <td>...</td>\n",
              "      <td>...</td>\n",
              "    </tr>\n",
              "    <tr>\n",
              "      <th>14635</th>\n",
              "      <td>@AmericanAir thank you we got on a different f...</td>\n",
              "      <td>positive</td>\n",
              "    </tr>\n",
              "    <tr>\n",
              "      <th>14636</th>\n",
              "      <td>@AmericanAir leaving over 20 minutes Late Flig...</td>\n",
              "      <td>negative</td>\n",
              "    </tr>\n",
              "    <tr>\n",
              "      <th>14637</th>\n",
              "      <td>@AmericanAir Please bring American Airlines to...</td>\n",
              "      <td>neutral</td>\n",
              "    </tr>\n",
              "    <tr>\n",
              "      <th>14638</th>\n",
              "      <td>@AmericanAir you have my money, you change my ...</td>\n",
              "      <td>negative</td>\n",
              "    </tr>\n",
              "    <tr>\n",
              "      <th>14639</th>\n",
              "      <td>@AmericanAir we have 8 ppl so we need 2 know h...</td>\n",
              "      <td>neutral</td>\n",
              "    </tr>\n",
              "  </tbody>\n",
              "</table>\n",
              "<p>14640 rows × 2 columns</p>\n",
              "</div>"
            ],
            "text/plain": [
              "                                                    text airline_sentiment\n",
              "0                    @VirginAmerica What @dhepburn said.           neutral\n",
              "1      @VirginAmerica plus you've added commercials t...          positive\n",
              "2      @VirginAmerica I didn't today... Must mean I n...           neutral\n",
              "3      @VirginAmerica it's really aggressive to blast...          negative\n",
              "4      @VirginAmerica and it's a really big bad thing...          negative\n",
              "...                                                  ...               ...\n",
              "14635  @AmericanAir thank you we got on a different f...          positive\n",
              "14636  @AmericanAir leaving over 20 minutes Late Flig...          negative\n",
              "14637  @AmericanAir Please bring American Airlines to...           neutral\n",
              "14638  @AmericanAir you have my money, you change my ...          negative\n",
              "14639  @AmericanAir we have 8 ppl so we need 2 know h...           neutral\n",
              "\n",
              "[14640 rows x 2 columns]"
            ]
          },
          "metadata": {
            "tags": []
          },
          "execution_count": 9
        }
      ]
    },
    {
      "cell_type": "code",
      "metadata": {
        "colab": {
          "base_uri": "https://localhost:8080/",
          "height": 221
        },
        "id": "9YNotpRoQdeg",
        "outputId": "059515a9-66ca-47ea-da15-85e3288d207c"
      },
      "source": [
        "print (tweet_mini_df.shape)\n",
        "tweet_mini_df.head(5)"
      ],
      "execution_count": 10,
      "outputs": [
        {
          "output_type": "stream",
          "text": [
            "(14640, 2)\n"
          ],
          "name": "stdout"
        },
        {
          "output_type": "execute_result",
          "data": {
            "text/html": [
              "<div>\n",
              "<style scoped>\n",
              "    .dataframe tbody tr th:only-of-type {\n",
              "        vertical-align: middle;\n",
              "    }\n",
              "\n",
              "    .dataframe tbody tr th {\n",
              "        vertical-align: top;\n",
              "    }\n",
              "\n",
              "    .dataframe thead th {\n",
              "        text-align: right;\n",
              "    }\n",
              "</style>\n",
              "<table border=\"1\" class=\"dataframe\">\n",
              "  <thead>\n",
              "    <tr style=\"text-align: right;\">\n",
              "      <th></th>\n",
              "      <th>text</th>\n",
              "      <th>airline_sentiment</th>\n",
              "    </tr>\n",
              "  </thead>\n",
              "  <tbody>\n",
              "    <tr>\n",
              "      <th>0</th>\n",
              "      <td>@VirginAmerica What @dhepburn said.</td>\n",
              "      <td>neutral</td>\n",
              "    </tr>\n",
              "    <tr>\n",
              "      <th>1</th>\n",
              "      <td>@VirginAmerica plus you've added commercials t...</td>\n",
              "      <td>positive</td>\n",
              "    </tr>\n",
              "    <tr>\n",
              "      <th>2</th>\n",
              "      <td>@VirginAmerica I didn't today... Must mean I n...</td>\n",
              "      <td>neutral</td>\n",
              "    </tr>\n",
              "    <tr>\n",
              "      <th>3</th>\n",
              "      <td>@VirginAmerica it's really aggressive to blast...</td>\n",
              "      <td>negative</td>\n",
              "    </tr>\n",
              "    <tr>\n",
              "      <th>4</th>\n",
              "      <td>@VirginAmerica and it's a really big bad thing...</td>\n",
              "      <td>negative</td>\n",
              "    </tr>\n",
              "  </tbody>\n",
              "</table>\n",
              "</div>"
            ],
            "text/plain": [
              "                                                text airline_sentiment\n",
              "0                @VirginAmerica What @dhepburn said.           neutral\n",
              "1  @VirginAmerica plus you've added commercials t...          positive\n",
              "2  @VirginAmerica I didn't today... Must mean I n...           neutral\n",
              "3  @VirginAmerica it's really aggressive to blast...          negative\n",
              "4  @VirginAmerica and it's a really big bad thing...          negative"
            ]
          },
          "metadata": {
            "tags": []
          },
          "execution_count": 10
        }
      ]
    },
    {
      "cell_type": "code",
      "metadata": {
        "id": "s7GvErNUugyL"
      },
      "source": [
        "stopwords = stopwords.words('english')\n",
        "\n",
        "customlist = ['not', \"couldn't\", 'didn', \"didn't\", 'doesn', \"doesn't\", 'hadn', \"hadn't\", 'hasn',\n",
        "        \"hasn't\", 'haven', \"haven't\", 'isn', \"isn't\", 'ma', 'mightn', \"mightn't\", 'mustn',\n",
        "        \"mustn't\", 'needn', \"needn't\", 'shan', \"shan't\", 'shouldn', \"shouldn't\", 'wasn',\n",
        "        \"wasn't\", 'weren', \"weren't\", 'won', \"won't\", 'wouldn', \"wouldn't\"]\n",
        "\n",
        "# Set custom stop-word's list as not, couldn't etc. words matter in Sentiment, so not removing them from original data.\n",
        "\n",
        "stopwords = list(set(stopwords) - set(customlist)) "
      ],
      "execution_count": 11,
      "outputs": []
    },
    {
      "cell_type": "markdown",
      "metadata": {
        "id": "kzI8onytQdeg"
      },
      "source": [
        "### 3. Text pre-processing: Data preparation "
      ]
    },
    {
      "cell_type": "code",
      "metadata": {
        "id": "XX3UdzobQdeh"
      },
      "source": [
        "#!pip install spacy\n",
        "#!python -m spacy download en_core_web_sm\n",
        "#!pip install https://github.com/explosion/spacy-models/releases/download/en_core_web_sm-2.2.0/en_core_web_sm-2.2.0.tar.gz\n",
        "\n",
        "lemmatizer = WordNetLemmatizer()\n",
        "\n",
        "nlp = spacy.load('en_core_web_sm', parse=True, tag=True, entity=True)\n",
        "def text_pre_processing(orig_text):\n",
        "    # 3a. html tag removal\n",
        "    text = BeautifulSoup(orig_text, \"html.parser\").get_text()\n",
        "    # Contraction isn't to is not\n",
        "    text = contractions.fix(text)\n",
        "    # 3b. Tokenization\n",
        "    words = nltk.word_tokenize(text)\n",
        "    new_words = []\n",
        "\n",
        "    for word in words:\n",
        "      # Remove non-ascii characters\n",
        "      word = unicodedata.normalize('NFKD', word).encode('ascii', 'ignore').decode('utf-8', 'ignore')\n",
        "      # 3c. Remove the numbers\n",
        "      word = re.sub(r'\\d+', '', word)\n",
        "      # 3d. Remove punctuation\n",
        "      word = re.sub(r'[^\\w\\s]', '', word)\n",
        "      # 3e. Conversion to Lower Case\n",
        "      word = word.lower()\n",
        "      # 3f Lemmatize including stopwords\n",
        "      if word not in stopwords and len(word) > 0:\n",
        "        new_words.append(lemmatizer.lemmatize(word, pos='v'))\n",
        "    #3g. join     \n",
        "    return ' '.join(new_words)"
      ],
      "execution_count": 12,
      "outputs": []
    },
    {
      "cell_type": "code",
      "metadata": {
        "colab": {
          "base_uri": "https://localhost:8080/"
        },
        "id": "AdccMduUQdeh",
        "outputId": "372cdd1c-1e2c-4d13-b4ac-ffef4c18f465"
      },
      "source": [
        "#print(text_pre_processing(tweet_mini_df.text[5]))\n",
        "print(\"Before pre_processing \", tweet_mini_df.text[5])\n",
        "tweet_mini_df['text'] = tweet_mini_df.apply(lambda row: text_pre_processing(row['text']), axis=1)\n",
        "print(\"After pre_processing \", tweet_mini_df.text[5])"
      ],
      "execution_count": 13,
      "outputs": [
        {
          "output_type": "stream",
          "text": [
            "Before pre_processing  @VirginAmerica seriously would pay $30 a flight for seats that didn't have this playing.\n",
            "it's really the only bad thing about flying VA\n",
            "After pre_processing  virginamerica seriously would pay flight seat not play really bad thing fly va\n"
          ],
          "name": "stdout"
        }
      ]
    },
    {
      "cell_type": "code",
      "metadata": {
        "colab": {
          "base_uri": "https://localhost:8080/"
        },
        "id": "CQX1OFRGQdeh",
        "outputId": "0fc77ab6-fd8c-4221-dd8b-8c2491acd3cf"
      },
      "source": [
        "# 3h Print first 5 rows of data after pre-processing\n",
        "for i in range(5):\n",
        "  print(\"Before\", i, \" : \", tweet_df.text[i])\n",
        "  print(\"After\", i, \" : \", tweet_mini_df.text[i])"
      ],
      "execution_count": 14,
      "outputs": [
        {
          "output_type": "stream",
          "text": [
            "Before 0  :  @VirginAmerica What @dhepburn said.\n",
            "After 0  :  virginamerica dhepburn say\n",
            "Before 1  :  @VirginAmerica plus you've added commercials to the experience... tacky.\n",
            "After 1  :  virginamerica plus add commercials experience tacky\n",
            "Before 2  :  @VirginAmerica I didn't today... Must mean I need to take another trip!\n",
            "After 2  :  virginamerica not today must mean need take another trip\n",
            "Before 3  :  @VirginAmerica it's really aggressive to blast obnoxious \"entertainment\" in your guests' faces &amp; they have little recourse\n",
            "After 3  :  virginamerica really aggressive blast obnoxious entertainment guests face little recourse\n",
            "Before 4  :  @VirginAmerica and it's a really big bad thing about it\n",
            "After 4  :  virginamerica really big bad thing\n"
          ],
          "name": "stdout"
        }
      ]
    },
    {
      "cell_type": "code",
      "metadata": {
        "id": "EMoIsHSCQdei"
      },
      "source": [
        ""
      ],
      "execution_count": 14,
      "outputs": []
    },
    {
      "cell_type": "markdown",
      "metadata": {
        "id": "hDeTfQVp6BfA"
      },
      "source": [
        "### 4. Vectorization"
      ]
    },
    {
      "cell_type": "code",
      "metadata": {
        "id": "XteHV7VW6HdD"
      },
      "source": [
        "# 4a. Count Vectorizer\n",
        "# Vectorization (Convert text data to numbers).\n",
        "vectorizer = CountVectorizer(max_features=2000)                # Keep only 1000 features as number of features will increase the processing time.\n",
        "data_features = vectorizer.fit_transform(tweet_mini_df['text'])\n",
        "\n",
        "data_features = data_features.toarray()                        # Convert the data features to array."
      ],
      "execution_count": 15,
      "outputs": []
    },
    {
      "cell_type": "code",
      "metadata": {
        "colab": {
          "base_uri": "https://localhost:8080/"
        },
        "id": "Zfhj0grkA6XV",
        "outputId": "373f6537-0aa8-4b67-d6bc-f6aeebe94f51"
      },
      "source": [
        "data_features.shape"
      ],
      "execution_count": 16,
      "outputs": [
        {
          "output_type": "execute_result",
          "data": {
            "text/plain": [
              "(14640, 2000)"
            ]
          },
          "metadata": {
            "tags": []
          },
          "execution_count": 16
        }
      ]
    },
    {
      "cell_type": "code",
      "metadata": {
        "id": "bctm7cLSA-eK"
      },
      "source": [
        "# 4b. TdifVctorizer\n",
        "tfidVectorizer = TfidfVectorizer(max_features=2000)\n",
        "tfidVector = tfidVectorizer.fit_transform(tweet_mini_df['text'])\n",
        "tfid_data_features = tfidVector.toarray()"
      ],
      "execution_count": 17,
      "outputs": []
    },
    {
      "cell_type": "code",
      "metadata": {
        "colab": {
          "base_uri": "https://localhost:8080/"
        },
        "id": "4MPZAEFmXY3N",
        "outputId": "c89db445-1dcd-456d-8459-4426a1b0e90f"
      },
      "source": [
        "print(tfid_data_features.shape)\n",
        "tfid_data_features"
      ],
      "execution_count": 18,
      "outputs": [
        {
          "output_type": "stream",
          "text": [
            "(14640, 2000)\n"
          ],
          "name": "stdout"
        },
        {
          "output_type": "execute_result",
          "data": {
            "text/plain": [
              "array([[0., 0., 0., ..., 0., 0., 0.],\n",
              "       [0., 0., 0., ..., 0., 0., 0.],\n",
              "       [0., 0., 0., ..., 0., 0., 0.],\n",
              "       ...,\n",
              "       [0., 0., 0., ..., 0., 0., 0.],\n",
              "       [0., 0., 0., ..., 0., 0., 0.],\n",
              "       [0., 0., 0., ..., 0., 0., 0.]])"
            ]
          },
          "metadata": {
            "tags": []
          },
          "execution_count": 18
        }
      ]
    },
    {
      "cell_type": "code",
      "metadata": {
        "colab": {
          "base_uri": "https://localhost:8080/"
        },
        "id": "3ZAOVao7Zqi-",
        "outputId": "68af684f-01f4-4ce8-bb5c-0754f746fd09"
      },
      "source": [
        "tfidVectorizer.vocabulary_"
      ],
      "execution_count": 19,
      "outputs": [
        {
          "output_type": "execute_result",
          "data": {
            "text/plain": [
              "{'virginamerica': 1889,\n",
              " 'say': 1541,\n",
              " 'plus': 1336,\n",
              " 'add': 25,\n",
              " 'commercials': 351,\n",
              " 'experience': 630,\n",
              " 'not': 1198,\n",
              " 'today': 1781,\n",
              " 'must': 1162,\n",
              " 'mean': 1095,\n",
              " 'need': 1174,\n",
              " 'take': 1725,\n",
              " 'another': 86,\n",
              " 'trip': 1809,\n",
              " 'really': 1426,\n",
              " 'blast': 213,\n",
              " 'entertainment': 588,\n",
              " 'face': 645,\n",
              " 'little': 1029,\n",
              " 'big': 201,\n",
              " 'bad': 161,\n",
              " 'thing': 1754,\n",
              " 'seriously': 1568,\n",
              " 'would': 1969,\n",
              " 'pay': 1286,\n",
              " 'flight': 702,\n",
              " 'seat': 1552,\n",
              " 'play': 1331,\n",
              " 'fly': 718,\n",
              " 'va': 1878,\n",
              " 'yes': 1986,\n",
              " 'nearly': 1173,\n",
              " 'every': 607,\n",
              " 'time': 1774,\n",
              " 'vx': 1899,\n",
              " 'go': 787,\n",
              " 'away': 153,\n",
              " 'miss': 1137,\n",
              " 'opportunity': 1238,\n",
              " 'without': 1953,\n",
              " 'hat': 820,\n",
              " 'https': 873,\n",
              " 'well': 1929,\n",
              " 'amaze': 73,\n",
              " 'arrive': 115,\n",
              " 'hour': 864,\n",
              " 'early': 558,\n",
              " 'good': 792,\n",
              " 'know': 978,\n",
              " 'suicide': 1698,\n",
              " 'second': 1554,\n",
              " 'lead': 1002,\n",
              " 'death': 462,\n",
              " 'among': 78,\n",
              " 'teens': 1738,\n",
              " 'pretty': 1366,\n",
              " 'much': 1159,\n",
              " 'better': 197,\n",
              " 'great': 796,\n",
              " 'deal': 460,\n",
              " 'already': 67,\n",
              " 'think': 1756,\n",
              " 'nd': 1170,\n",
              " 'australia': 140,\n",
              " 'even': 603,\n",
              " 'st': 1657,\n",
              " 'yet': 1988,\n",
              " 'fabulous': 644,\n",
              " 'sky': 1615,\n",
              " 'stress': 1685,\n",
              " 'travel': 1803,\n",
              " 'http': 872,\n",
              " 'thank': 1750,\n",
              " 'schedule': 1546,\n",
              " 'still': 1675,\n",
              " 'mia': 1115,\n",
              " 'excite': 619,\n",
              " 'first': 691,\n",
              " 'cross': 423,\n",
              " 'country': 408,\n",
              " 'lax': 998,\n",
              " 'mco': 1090,\n",
              " 'hear': 824,\n",
              " 'nothing': 1202,\n",
              " 'things': 1755,\n",
              " 'virgin': 1888,\n",
              " 'america': 74,\n",
              " 'nyc': 1210,\n",
              " 'sfo': 1575,\n",
              " 'last': 993,\n",
              " 'week': 1923,\n",
              " 'could': 405,\n",
              " 'sit': 1607,\n",
              " 'due': 553,\n",
              " 'two': 1826,\n",
              " 'large': 991,\n",
              " 'either': 569,\n",
              " 'side': 1594,\n",
              " 'help': 832,\n",
              " 'awesome': 154,\n",
              " 'please': 1333,\n",
              " 'want': 1906,\n",
              " 'fare': 659,\n",
              " 'may': 1087,\n",
              " 'three': 1763,\n",
              " 'carriers': 272,\n",
              " 'available': 146,\n",
              " 'select': 1561,\n",
              " 'love': 1053,\n",
              " 'feel': 672,\n",
              " 'brand': 229,\n",
              " 'make': 1072,\n",
              " 'bos': 223,\n",
              " 'las': 992,\n",
              " 'non': 1191,\n",
              " 'stop': 1678,\n",
              " 'anytime': 92,\n",
              " 'soon': 1637,\n",
              " 'guy': 807,\n",
              " 'mess': 1110,\n",
              " 'reserve': 1484,\n",
              " 'friends': 752,\n",
              " 'give': 783,\n",
              " 'free': 745,\n",
              " 'internet': 934,\n",
              " 'status': 1668,\n",
              " 'match': 1085,\n",
              " 'program': 1382,\n",
              " 'apply': 105,\n",
              " 'weeks': 1925,\n",
              " 'call': 258,\n",
              " 'email': 574,\n",
              " 'response': 1490,\n",
              " 'happen': 815,\n",
              " 'ur': 1866,\n",
              " 'food': 726,\n",
              " 'options': 1240,\n",
              " 'least': 1004,\n",
              " 'site': 1608,\n",
              " 'able': 3,\n",
              " 'eat': 566,\n",
              " 'anything': 91,\n",
              " 'next': 1181,\n",
              " 'hrs': 871,\n",
              " 'fail': 648,\n",
              " 'worry': 1963,\n",
              " 'together': 1783,\n",
              " 'get': 776,\n",
              " 'cold': 343,\n",
              " 'air': 48,\n",
              " 'ewr': 611,\n",
              " 'middle': 1117,\n",
              " 'red': 1438,\n",
              " 'eye': 641,\n",
              " 'hi': 836,\n",
              " 'cool': 396,\n",
              " 'birthday': 207,\n",
              " 'elevate': 570,\n",
              " 'enter': 586,\n",
              " 'name': 1164,\n",
              " 'book': 222,\n",
              " 'problems': 1377,\n",
              " 'hours': 865,\n",
              " 'club': 333,\n",
              " 'post': 1352,\n",
              " 'online': 1231,\n",
              " 'current': 432,\n",
              " 'leave': 1005,\n",
              " 'expensive': 629,\n",
              " 'iad': 884,\n",
              " 'one': 1229,\n",
              " 'answer': 87,\n",
              " 'number': 1207,\n",
              " 'await': 150,\n",
              " 'return': 1497,\n",
              " 'phone': 1311,\n",
              " 'prefer': 1361,\n",
              " 'use': 1873,\n",
              " 'option': 1239,\n",
              " 'news': 1180,\n",
              " 'start': 1664,\n",
              " 'hawaii': 822,\n",
              " 'end': 580,\n",
              " 'year': 1982,\n",
              " 'via': 1885,\n",
              " 'nice': 1183,\n",
              " 'rt': 1522,\n",
              " 'takeoff': 1726,\n",
              " 'way': 1914,\n",
              " 'best': 195,\n",
              " 'ever': 606,\n",
              " 'do': 533,\n",
              " 'airline': 53,\n",
              " 'around': 112,\n",
              " 'hand': 811,\n",
              " 'chat': 302,\n",
              " 'support': 1707,\n",
              " 'work': 1960,\n",
              " 'view': 1887,\n",
              " 'sign': 1597,\n",
              " 'beyond': 198,\n",
              " 'hey': 835,\n",
              " 'flyer': 719,\n",
              " 'hard': 817,\n",
              " 'account': 17,\n",
              " 'plz': 1337,\n",
              " 'win': 1944,\n",
              " 'upgrade': 1863,\n",
              " 'sea': 1550,\n",
              " 'unused': 1860,\n",
              " 'ticket': 1770,\n",
              " 'move': 1153,\n",
              " 'new': 1178,\n",
              " 'city': 317,\n",
              " 'expire': 631,\n",
              " 'dallas': 446,\n",
              " 'seattle': 1553,\n",
              " 'feb': 668,\n",
              " 'reason': 1427,\n",
              " 'rock': 1512,\n",
              " 'dream': 547,\n",
              " 'wow': 1971,\n",
              " 'blow': 216,\n",
              " 'mind': 1128,\n",
              " 'ladygaga': 985,\n",
              " 'carrieunderwood': 273,\n",
              " 'night': 1185,\n",
              " 'oscars': 1246,\n",
              " 'agree': 44,\n",
              " 'entertain': 587,\n",
              " 'suppose': 1708,\n",
              " 'minutes': 1134,\n",
              " 'ago': 43,\n",
              " 'website': 1920,\n",
              " 'show': 1590,\n",
              " 'though': 1760,\n",
              " 'impressive': 901,\n",
              " 'wish': 1951,\n",
              " 'atlanta': 128,\n",
              " 'la': 982,\n",
              " 'february': 669,\n",
              " 'th': 1749,\n",
              " 'lga': 1014,\n",
              " 'dal': 445,\n",
              " 'try': 1816,\n",
              " 'since': 1603,\n",
              " 'page': 1263,\n",
              " 'never': 1176,\n",
              " 'load': 1032,\n",
              " 'thx': 1768,\n",
              " 'stat': 1665,\n",
              " 'lady': 984,\n",
              " 'market': 1084,\n",
              " 'song': 1636,\n",
              " 'let': 1011,\n",
              " 'us': 1867,\n",
              " 'sorry': 1639,\n",
              " 'beat': 185,\n",
              " 'dca': 458,\n",
              " 'pm': 1338,\n",
              " 'check': 305,\n",
              " 'someone': 1632,\n",
              " 'hold': 846,\n",
              " 'earlier': 557,\n",
              " 'tonight': 1786,\n",
              " 'congrats': 381,\n",
              " 'award': 151,\n",
              " 'everything': 609,\n",
              " 'fine': 687,\n",
              " 'lose': 1047,\n",
              " 'bag': 166,\n",
              " 'change': 295,\n",
              " 'reservation': 1482,\n",
              " 'credit': 421,\n",
              " 'card': 268,\n",
              " 'waive': 1901,\n",
              " 'fee': 670,\n",
              " 'customer': 435,\n",
              " 'service': 1571,\n",
              " 'team': 1733,\n",
              " 'track': 1795,\n",
              " 'baggage': 167,\n",
              " 'step': 1672,\n",
              " 'game': 769,\n",
              " 'dirty': 513,\n",
              " 'table': 1721,\n",
              " 'floor': 714,\n",
              " 'ride': 1504,\n",
              " 'plane': 1326,\n",
              " 'crew': 422,\n",
              " 'airlines': 54,\n",
              " 'like': 1021,\n",
              " 'morning': 1150,\n",
              " 'correct': 400,\n",
              " 'bill': 203,\n",
              " 'watch': 1911,\n",
              " 'student': 1689,\n",
              " 'film': 682,\n",
              " 'feet': 673,\n",
              " 'different': 507,\n",
              " 'media': 1099,\n",
              " 'anyway': 93,\n",
              " 'speak': 1647,\n",
              " 'human': 876,\n",
              " 'possible': 1350,\n",
              " 'biz': 209,\n",
              " 'traveler': 1804,\n",
              " 'southwestair': 1644,\n",
              " 'jetblue': 955,\n",
              " 'member': 1103,\n",
              " 'inflight': 922,\n",
              " 'interest': 932,\n",
              " 'whenever': 1935,\n",
              " 'delay': 473,\n",
              " 'late': 994,\n",
              " 'cancel': 264,\n",
              " 'four': 739,\n",
              " 'plan': 1325,\n",
              " 'disappoint': 515,\n",
              " 'share': 1578,\n",
              " 'business': 248,\n",
              " 'meet': 1101,\n",
              " 'trouble': 1810,\n",
              " 'wife': 1941,\n",
              " 'bring': 234,\n",
              " 'code': 341,\n",
              " 'bet': 196,\n",
              " 'life': 1018,\n",
              " 'home': 848,\n",
              " 'back': 159,\n",
              " 'yeah': 1981,\n",
              " 'point': 1340,\n",
              " 'recent': 1433,\n",
              " 'tv': 1822,\n",
              " 'video': 1886,\n",
              " 'flightled': 708,\n",
              " 'jfk': 957,\n",
              " 'saturday': 1537,\n",
              " 'land': 988,\n",
              " 'friendly': 751,\n",
              " 'redirect': 1441,\n",
              " 'btw': 238,\n",
              " 'mobile': 1140,\n",
              " 'scan': 1544,\n",
              " 'passengers': 1278,\n",
              " 'tell': 1740,\n",
              " 'remove': 1462,\n",
              " 'class': 320,\n",
              " 'bin': 204,\n",
              " 'uncomfortable': 1840,\n",
              " 'find': 686,\n",
              " 'anyone': 90,\n",
              " 'useless': 1875,\n",
              " 'sf': 1574,\n",
              " 'thursday': 1767,\n",
              " 'music': 1161,\n",
              " 'direct': 510,\n",
              " 'fll': 713,\n",
              " 'unexpected': 1843,\n",
              " 'layover': 999,\n",
              " 'vegas': 1883,\n",
              " 'fuel': 759,\n",
              " 'buy': 251,\n",
              " 'people': 1294,\n",
              " 'exp': 625,\n",
              " 'customerservice': 437,\n",
              " 'line': 1024,\n",
              " 'hang': 814,\n",
              " 'sarcasm': 1536,\n",
              " 'plain': 1324,\n",
              " 'text': 1748,\n",
              " 'info': 923,\n",
              " 'weather': 1918,\n",
              " 'look': 1045,\n",
              " 'getaway': 777,\n",
              " 'lot': 1049,\n",
              " 'cities': 316,\n",
              " 'come': 347,\n",
              " 'phl': 1308,\n",
              " 'horrible': 858,\n",
              " 'concern': 372,\n",
              " 'tech': 1735,\n",
              " 'helpful': 833,\n",
              " 'comfortable': 348,\n",
              " 'rep': 1465,\n",
              " 'kick': 973,\n",
              " 'beautiful': 186,\n",
              " 'design': 488,\n",
              " 'right': 1506,\n",
              " 'bc': 181,\n",
              " 'secure': 1555,\n",
              " 'run': 1526,\n",
              " 'gate': 772,\n",
              " 'wait': 1900,\n",
              " 'keep': 971,\n",
              " 'totally': 1789,\n",
              " 'folks': 724,\n",
              " 'problem': 1376,\n",
              " 'min': 1127,\n",
              " 'connect': 382,\n",
              " 'seem': 1559,\n",
              " 'long': 1043,\n",
              " 'outstanding': 1253,\n",
              " 'san': 1535,\n",
              " 'francisco': 741,\n",
              " 'absolute': 5,\n",
              " 'provide': 1391,\n",
              " 'complimentary': 369,\n",
              " 'completely': 367,\n",
              " 'month': 1148,\n",
              " 'nonstop': 1193,\n",
              " 'depart': 481,\n",
              " 'customers': 436,\n",
              " 'process': 1379,\n",
              " 'link': 1025,\n",
              " 'tsa': 1817,\n",
              " 'precheck': 1360,\n",
              " 'terrible': 1743,\n",
              " 'hotel': 861,\n",
              " 'cabo': 256,\n",
              " 'assistance': 124,\n",
              " 'yesterday': 1987,\n",
              " 'shame': 1576,\n",
              " 'register': 1450,\n",
              " 'dog': 535,\n",
              " 'dull': 554,\n",
              " 'queue': 1405,\n",
              " 'longer': 1044,\n",
              " 'pls': 1335,\n",
              " 'advise': 34,\n",
              " 'redcarpet': 1439,\n",
              " 'drop': 551,\n",
              " 'always': 72,\n",
              " 'create': 420,\n",
              " 'frustrate': 755,\n",
              " 'extra': 637,\n",
              " 'buck': 239,\n",
              " 'luggage': 1064,\n",
              " 'might': 1120,\n",
              " 'afford': 37,\n",
              " 'hire': 842,\n",
              " 'lame': 987,\n",
              " 'world': 1962,\n",
              " 'flt': 716,\n",
              " 'sooner': 1638,\n",
              " 'midnight': 1118,\n",
              " 'monday': 1145,\n",
              " 'imagine': 894,\n",
              " 'web': 1919,\n",
              " 'indicate': 918,\n",
              " 'staff': 1658,\n",
              " 'super': 1705,\n",
              " 'premium': 1363,\n",
              " 'across': 20,\n",
              " 'offer': 1216,\n",
              " 'sad': 1528,\n",
              " 'question': 1404,\n",
              " 'infant': 921,\n",
              " 'welcome': 1928,\n",
              " 'dc': 457,\n",
              " 'refresh': 1445,\n",
              " 'understand': 1841,\n",
              " 'dm': 531,\n",
              " 'damage': 447,\n",
              " 'policy': 1343,\n",
              " 'destroy': 496,\n",
              " 'special': 1648,\n",
              " 'alone': 65,\n",
              " 'kid': 974,\n",
              " 'priority': 1372,\n",
              " 'board': 220,\n",
              " 'purchase': 1397,\n",
              " 'happy': 816,\n",
              " 'field': 677,\n",
              " 'definitely': 469,\n",
              " 'dfw': 499,\n",
              " 'license': 1016,\n",
              " 'friday': 749,\n",
              " 'error': 593,\n",
              " 'contact': 390,\n",
              " 'minute': 1133,\n",
              " 'reschedule': 1481,\n",
              " 'button': 250,\n",
              " 'ring': 1507,\n",
              " 'fix': 695,\n",
              " 'tomorrow': 1784,\n",
              " 'unacceptable': 1837,\n",
              " 'stick': 1674,\n",
              " 'pair': 1265,\n",
              " 'include': 907,\n",
              " 'wine': 1947,\n",
              " 'white': 1937,\n",
              " 'agent': 41,\n",
              " 'silver': 1599,\n",
              " 'dulles_airport': 555,\n",
              " 'close': 329,\n",
              " 'assist': 123,\n",
              " 'austin': 139,\n",
              " 'route': 1518,\n",
              " 'normal': 1196,\n",
              " 'receive': 1432,\n",
              " 'reply': 1470,\n",
              " 'central': 286,\n",
              " 'smh': 1620,\n",
              " 'logan': 1040,\n",
              " 'airport': 56,\n",
              " 'checkin': 306,\n",
              " 'desk': 489,\n",
              " 'open': 1234,\n",
              " 'jump': 968,\n",
              " 'daily': 444,\n",
              " 'begin': 189,\n",
              " 'april': 109,\n",
              " 'fuck': 758,\n",
              " 'unite': 1850,\n",
              " 'fl': 696,\n",
              " 'follow': 725,\n",
              " 'many': 1080,\n",
              " 'apologies': 96,\n",
              " 'worse': 1964,\n",
              " 'respond': 1489,\n",
              " 'spend': 1651,\n",
              " 'money': 1146,\n",
              " 'strand': 1682,\n",
              " 'reimburse': 1452,\n",
              " 'sjc': 1612,\n",
              " 'choice': 313,\n",
              " 'southwest': 1643,\n",
              " 'days': 456,\n",
              " 'confirmation': 377,\n",
              " 'claim': 318,\n",
              " 'notification': 1204,\n",
              " 'rebook': 1429,\n",
              " 'gold': 790,\n",
              " 'cmh': 335,\n",
              " 'throw': 1765,\n",
              " 'worst': 1965,\n",
              " 'stuff': 1690,\n",
              " 'wrong': 1973,\n",
              " 'issue': 942,\n",
              " 'item': 943,\n",
              " 'head': 823,\n",
              " 'americanairlines': 77,\n",
              " 'suck': 1694,\n",
              " 'flightlation': 706,\n",
              " 'notice': 1203,\n",
              " 'ps': 1392,\n",
              " 'drive': 549,\n",
              " 'mon': 1144,\n",
              " 'boston': 224,\n",
              " 'stink': 1676,\n",
              " 'expect': 626,\n",
              " 'dance': 449,\n",
              " 'high': 838,\n",
              " 'school': 1547,\n",
              " 'quick': 1406,\n",
              " 'apparently': 101,\n",
              " 'faster': 661,\n",
              " 'send': 1564,\n",
              " 'picture': 1316,\n",
              " 'wing': 1948,\n",
              " 'texas': 1747,\n",
              " 'ny': 1209,\n",
              " 'pilot': 1319,\n",
              " 'job': 959,\n",
              " 'snow': 1625,\n",
              " 'york': 1990,\n",
              " 'area': 110,\n",
              " 'afternoon': 38,\n",
              " 'row': 1519,\n",
              " 'mention': 1107,\n",
              " 'mechanical': 1097,\n",
              " 'handle': 812,\n",
              " 'drink': 548,\n",
              " 'twitter': 1825,\n",
              " 'kill': 975,\n",
              " 'charge': 299,\n",
              " 'refuse': 1448,\n",
              " 'refund': 1447,\n",
              " 'access': 13,\n",
              " 'iphone': 940,\n",
              " 'ipad': 939,\n",
              " 'passbook': 1276,\n",
              " 'click': 326,\n",
              " 'break': 230,\n",
              " 'forward': 738,\n",
              " 'cost': 402,\n",
              " 'ugh': 1833,\n",
              " 'along': 66,\n",
              " 'put': 1400,\n",
              " 'pdx': 1289,\n",
              " 'bug': 242,\n",
              " 'report': 1471,\n",
              " 'center': 285,\n",
              " 'bite': 208,\n",
              " 'attendant': 132,\n",
              " 'reset': 1485,\n",
              " 'password': 1280,\n",
              " 'base': 175,\n",
              " 'nicely': 1184,\n",
              " 'something': 1633,\n",
              " 'departure': 483,\n",
              " 'palm': 1266,\n",
              " 'spring': 1656,\n",
              " 'ca': 253,\n",
              " 'sound': 1641,\n",
              " 'fun': 761,\n",
              " 'update': 1862,\n",
              " 'count': 406,\n",
              " 'somehow': 1631,\n",
              " 'continue': 393,\n",
              " 'sort': 1640,\n",
              " 'sweet': 1716,\n",
              " 'ice': 886,\n",
              " 'coffee': 342,\n",
              " 'passenger': 1277,\n",
              " 'trust': 1815,\n",
              " 'file': 680,\n",
              " 'destination': 493,\n",
              " 'wheel': 1933,\n",
              " 'easy': 565,\n",
              " 'itinerary': 945,\n",
              " 'see': 1557,\n",
              " 'inspire': 929,\n",
              " 'become': 187,\n",
              " 'event': 604,\n",
              " 'march': 1082,\n",
              " 'abq': 4,\n",
              " 'entire': 589,\n",
              " 'improve': 902,\n",
              " 'request': 1475,\n",
              " 'window': 1946,\n",
              " 'confirm': 376,\n",
              " 'treat': 1806,\n",
              " 'grand': 794,\n",
              " 'wtf': 1975,\n",
              " 'purpose': 1398,\n",
              " 'frequent': 747,\n",
              " 'flier': 700,\n",
              " 'inconvenience': 910,\n",
              " 'full': 760,\n",
              " 'place': 1323,\n",
              " 'result': 1495,\n",
              " 'usa': 1868,\n",
              " 'pillow': 1318,\n",
              " 'instead': 930,\n",
              " 'race': 1410,\n",
              " 'advantage': 31,\n",
              " 'fight': 678,\n",
              " 'salt': 1534,\n",
              " 'cabin': 255,\n",
              " 'behind': 190,\n",
              " 'fav': 664,\n",
              " 'hot': 860,\n",
              " 'paris': 1270,\n",
              " 'surgery': 1710,\n",
              " 'suitcase': 1700,\n",
              " 'errors': 594,\n",
              " 'past': 1281,\n",
              " 'ah': 45,\n",
              " 'order': 1242,\n",
              " 'virginatlantic': 1890,\n",
              " 'benefit': 193,\n",
              " 'husband': 883,\n",
              " 'screen': 1548,\n",
              " 'light': 1020,\n",
              " 'barely': 174,\n",
              " 'turbulence': 1820,\n",
              " 'profit': 1381,\n",
              " 'funny': 764,\n",
              " 'story': 1680,\n",
              " 'forecast': 728,\n",
              " 'nytimes': 1211,\n",
              " 'position': 1348,\n",
              " 'wonder': 1957,\n",
              " 'despite': 492,\n",
              " 'revenue': 1498,\n",
              " 'positive': 1349,\n",
              " 'increase': 912,\n",
              " 'wind': 1945,\n",
              " 'degrees': 471,\n",
              " 'safety': 1532,\n",
              " 'day': 455,\n",
              " 'rout': 1517,\n",
              " 'newark': 1179,\n",
              " 'hope': 855,\n",
              " 'probably': 1375,\n",
              " 'save': 1539,\n",
              " 'standby': 1661,\n",
              " 'absolutely': 6,\n",
              " 'ready': 1422,\n",
              " 'manage': 1076,\n",
              " 'treatment': 1807,\n",
              " 'old': 1226,\n",
              " 'battle': 179,\n",
              " 'less': 1009,\n",
              " 'half': 810,\n",
              " 'price': 1369,\n",
              " 'round': 1515,\n",
              " 'dtw': 552,\n",
              " 'sell': 1563,\n",
              " 'promo': 1385,\n",
              " 'paperwork': 1268,\n",
              " 'promise': 1384,\n",
              " 'resolution': 1486,\n",
              " 'performance': 1298,\n",
              " 'care': 269,\n",
              " 'lovely': 1055,\n",
              " 'mileage': 1122,\n",
              " 'challenge': 293,\n",
              " 'several': 1573,\n",
              " 'ball': 169,\n",
              " 'flightly': 710,\n",
              " 'americanair': 76,\n",
              " 'glad': 784,\n",
              " 'years': 1983,\n",
              " 'earn': 559,\n",
              " 'couple': 409,\n",
              " 'message': 1111,\n",
              " 'avail': 144,\n",
              " 'cheer': 307,\n",
              " 'smooth': 1622,\n",
              " 'easily': 562,\n",
              " 'hop': 854,\n",
              " 'force': 727,\n",
              " 'small': 1619,\n",
              " 'carry': 274,\n",
              " 'empty': 579,\n",
              " 'space': 1646,\n",
              " 'slow': 1618,\n",
              " 'representative': 1472,\n",
              " 'solution': 1628,\n",
              " 'loyal': 1058,\n",
              " 'jacket': 947,\n",
              " 'rd': 1418,\n",
              " 'partner': 1273,\n",
              " 'visa': 1891,\n",
              " 'payment': 1287,\n",
              " 'method': 1113,\n",
              " 'rat': 1415,\n",
              " 'recommend': 1434,\n",
              " 'aus': 138,\n",
              " 'turn': 1821,\n",
              " 'course': 411,\n",
              " 'family': 655,\n",
              " 'ok': 1223,\n",
              " 'receipt': 1431,\n",
              " 'badge': 163,\n",
              " 'ones': 1230,\n",
              " 'currently': 433,\n",
              " 'pick': 1315,\n",
              " 'tweet': 1823,\n",
              " 'rental': 1464,\n",
              " 'car': 267,\n",
              " 'cust': 434,\n",
              " 'lap': 989,\n",
              " 'child': 311,\n",
              " 'celebrate': 283,\n",
              " 'chance': 294,\n",
              " 'gift': 780,\n",
              " 'bank': 172,\n",
              " 'joke': 962,\n",
              " 'constant': 388,\n",
              " 'also': 69,\n",
              " 'grandma': 795,\n",
              " 'bday': 182,\n",
              " 'greet': 797,\n",
              " 'stewardess': 1673,\n",
              " 'eastern': 564,\n",
              " 'tix': 1778,\n",
              " 'yr': 1993,\n",
              " 'moment': 1143,\n",
              " 'submit': 1692,\n",
              " 'ceo': 287,\n",
              " 'low': 1056,\n",
              " 'model': 1141,\n",
              " 'brilliant': 233,\n",
              " 'omg': 1227,\n",
              " 'pull': 1396,\n",
              " 'computer': 370,\n",
              " 'incident': 906,\n",
              " 'laptop': 990,\n",
              " 'guess': 804,\n",
              " 'announce': 82,\n",
              " 'dollar': 536,\n",
              " 'deserve': 487,\n",
              " 'fyi': 767,\n",
              " 'address': 27,\n",
              " 'exist': 622,\n",
              " 'towards': 1793,\n",
              " 'svc': 1713,\n",
              " 'app': 99,\n",
              " 'favorite': 665,\n",
              " 'crap': 416,\n",
              " 'channel': 296,\n",
              " 'uk': 1835,\n",
              " 'set': 1572,\n",
              " 'mexico': 1114,\n",
              " 'waste': 1910,\n",
              " 'paper': 1267,\n",
              " 'system': 1719,\n",
              " 'accept': 11,\n",
              " 'likely': 1022,\n",
              " 'tea': 1731,\n",
              " 'black': 210,\n",
              " 'destinations': 495,\n",
              " 'spread': 1655,\n",
              " 'learn': 1003,\n",
              " 'incredible': 913,\n",
              " 'philadelphia': 1306,\n",
              " 'houston': 867,\n",
              " 'finally': 685,\n",
              " 'avgeek': 147,\n",
              " 'forget': 730,\n",
              " 'kind': 976,\n",
              " 'jack': 946,\n",
              " 'future': 766,\n",
              " 'poor': 1344,\n",
              " 'malfunction': 1074,\n",
              " 'diego': 504,\n",
              " 'thankyou': 1753,\n",
              " 'jose': 963,\n",
              " 'excellent': 615,\n",
              " 'portland': 1347,\n",
              " 'additional': 26,\n",
              " 'items': 944,\n",
              " 'carryon': 275,\n",
              " 'lock': 1038,\n",
              " 'group': 801,\n",
              " 'room': 1513,\n",
              " 'nightmare': 1186,\n",
              " 'sure': 1709,\n",
              " 'shit': 1580,\n",
              " 'bump': 245,\n",
              " 'rough': 1514,\n",
              " 'luckily': 1061,\n",
              " 'perfect': 1296,\n",
              " 'sun': 1702,\n",
              " 'stay': 1669,\n",
              " 'raise': 1411,\n",
              " 'man': 1075,\n",
              " 'wifi': 1942,\n",
              " 'ios': 938,\n",
              " 'saw': 1540,\n",
              " 'dad': 443,\n",
              " 'part': 1272,\n",
              " 'whole': 1939,\n",
              " 'short': 1586,\n",
              " 'europe': 601,\n",
              " 'abc': 2,\n",
              " 'overhead': 1256,\n",
              " 'person': 1302,\n",
              " 'ask': 118,\n",
              " 'luck': 1060,\n",
              " 'dear': 461,\n",
              " 'accommodate': 14,\n",
              " 'commercial': 350,\n",
              " 'lol': 1041,\n",
              " 'others': 1247,\n",
              " 'actual': 23,\n",
              " 'serv': 1569,\n",
              " 'travelers': 1805,\n",
              " 'affect': 36,\n",
              " 'storm': 1679,\n",
              " 'shock': 1582,\n",
              " 'complete': 366,\n",
              " 'toward': 1792,\n",
              " 'advance': 30,\n",
              " 'prior': 1371,\n",
              " 'pa': 1260,\n",
              " 'cut': 439,\n",
              " 'philly': 1307,\n",
              " 'main': 1068,\n",
              " 'penalty': 1292,\n",
              " 'industry': 919,\n",
              " 'months': 1149,\n",
              " 'reps': 1473,\n",
              " 'regard': 1449,\n",
              " 'movie': 1154,\n",
              " 'actually': 24,\n",
              " 'mr': 1155,\n",
              " 'word': 1959,\n",
              " 'resolve': 1487,\n",
              " 'lack': 983,\n",
              " 'deice': 472,\n",
              " 'fill': 681,\n",
              " 'common': 353,\n",
              " 'express': 634,\n",
              " 'connections': 384,\n",
              " 'international': 933,\n",
              " 'yous': 1992,\n",
              " 'orlando': 1245,\n",
              " 'mins': 1131,\n",
              " 'tough': 1791,\n",
              " 'wof': 1954,\n",
              " 'serious': 1567,\n",
              " 'hook': 853,\n",
              " 'alternate': 70,\n",
              " 'prevent': 1367,\n",
              " 'domestic': 538,\n",
              " 'oh': 1222,\n",
              " 'auto': 141,\n",
              " 'economy': 567,\n",
              " 'transfer': 1799,\n",
              " 'security': 1556,\n",
              " 'shoe': 1583,\n",
              " 'david': 454,\n",
              " 'case': 277,\n",
              " 'wonderful': 1958,\n",
              " 'voucher': 1896,\n",
              " 'january': 950,\n",
              " 'mail': 1067,\n",
              " 'company': 358,\n",
              " 'maybe': 1088,\n",
              " 'timely': 1775,\n",
              " 'manner': 1079,\n",
              " 'pass': 1275,\n",
              " 'son': 1635,\n",
              " 'weak': 1916,\n",
              " 'ya': 1978,\n",
              " 'miami': 1116,\n",
              " 'jan': 949,\n",
              " 'total': 1788,\n",
              " 'explain': 632,\n",
              " 'talk': 1727,\n",
              " 'almost': 64,\n",
              " 'ppl': 1355,\n",
              " 'daughter': 452,\n",
              " 'flightr': 711,\n",
              " 'anymore': 89,\n",
              " 'platinum': 1330,\n",
              " 'mechanics': 1098,\n",
              " 'badcustomerservice': 162,\n",
              " 'agents': 42,\n",
              " 'rude': 1523,\n",
              " 'thankfully': 1752,\n",
              " 'overnight': 1257,\n",
              " 'clients': 328,\n",
              " 'hr': 870,\n",
              " 'iah': 885,\n",
              " 'accord': 16,\n",
              " 'dmed': 532,\n",
              " 'detail': 497,\n",
              " 'charlotte': 301,\n",
              " 'existent': 623,\n",
              " 'ignore': 892,\n",
              " 'touch': 1790,\n",
              " 'form': 732,\n",
              " 'vouchers': 1897,\n",
              " 'expense': 628,\n",
              " 'inconvenient': 911,\n",
              " 'anywhere': 94,\n",
              " 'upon': 1864,\n",
              " 'grind': 798,\n",
              " 'else': 572,\n",
              " 'appreciate': 106,\n",
              " 'tarmac': 1729,\n",
              " 'ua': 1831,\n",
              " 'outside': 1251,\n",
              " 'truly': 1814,\n",
              " 'third': 1757,\n",
              " 'search': 1551,\n",
              " 'rule': 1525,\n",
              " 'enough': 584,\n",
              " 'denver': 479,\n",
              " 'train': 1797,\n",
              " 'mistake': 1138,\n",
              " 'ord': 1241,\n",
              " 'avoid': 149,\n",
              " 'supervisor': 1706,\n",
              " 'gf': 778,\n",
              " 'announcement': 83,\n",
              " 'pre': 1359,\n",
              " 'require': 1476,\n",
              " 'thru': 1766,\n",
              " 'dept': 486,\n",
              " 'okc': 1225,\n",
              " 'will': 1943,\n",
              " 'connection': 383,\n",
              " 'upset': 1865,\n",
              " 'employees': 578,\n",
              " 'medical': 1100,\n",
              " 'equipment': 592,\n",
              " 'thnx': 1758,\n",
              " 'intl': 936,\n",
              " 'military': 1125,\n",
              " 'mom': 1142,\n",
              " 'emergency': 576,\n",
              " 'miles': 1124,\n",
              " 'mileageplus': 1123,\n",
              " 'complain': 363,\n",
              " 'unfortunate': 1844,\n",
              " 'american': 75,\n",
              " 'coach': 338,\n",
              " 'bird': 205,\n",
              " 'ahead': 46,\n",
              " 'control': 395,\n",
              " 'rather': 1417,\n",
              " 'sincerely': 1604,\n",
              " 'delta': 477,\n",
              " ...}"
            ]
          },
          "metadata": {
            "tags": []
          },
          "execution_count": 19
        }
      ]
    },
    {
      "cell_type": "code",
      "metadata": {
        "colab": {
          "base_uri": "https://localhost:8080/"
        },
        "id": "vtNKwyGIZtIi",
        "outputId": "1c36ba1e-9a7d-471d-e84e-924cd8d2b9ce"
      },
      "source": [
        "tfidVectorizer.idf_"
      ],
      "execution_count": 20,
      "outputs": [
        {
          "output_type": "execute_result",
          "data": {
            "text/plain": [
              "array([5.03089946, 8.19368582, 8.39435651, ..., 7.88353089, 6.98066318,\n",
              "       8.19368582])"
            ]
          },
          "metadata": {
            "tags": []
          },
          "execution_count": 20
        }
      ]
    },
    {
      "cell_type": "markdown",
      "metadata": {
        "id": "KeGKN5UkaMr3"
      },
      "source": [
        "###5 Fit and Evaluate both type of vectorization"
      ]
    },
    {
      "cell_type": "code",
      "metadata": {
        "colab": {
          "base_uri": "https://localhost:8080/",
          "height": 204
        },
        "id": "2jF1Lt-0aLiI",
        "outputId": "c886d004-bdaf-41ea-c94d-fc04185b289c"
      },
      "source": [
        "tweet_mini_df.head(5)"
      ],
      "execution_count": 21,
      "outputs": [
        {
          "output_type": "execute_result",
          "data": {
            "text/html": [
              "<div>\n",
              "<style scoped>\n",
              "    .dataframe tbody tr th:only-of-type {\n",
              "        vertical-align: middle;\n",
              "    }\n",
              "\n",
              "    .dataframe tbody tr th {\n",
              "        vertical-align: top;\n",
              "    }\n",
              "\n",
              "    .dataframe thead th {\n",
              "        text-align: right;\n",
              "    }\n",
              "</style>\n",
              "<table border=\"1\" class=\"dataframe\">\n",
              "  <thead>\n",
              "    <tr style=\"text-align: right;\">\n",
              "      <th></th>\n",
              "      <th>text</th>\n",
              "      <th>airline_sentiment</th>\n",
              "    </tr>\n",
              "  </thead>\n",
              "  <tbody>\n",
              "    <tr>\n",
              "      <th>0</th>\n",
              "      <td>virginamerica dhepburn say</td>\n",
              "      <td>neutral</td>\n",
              "    </tr>\n",
              "    <tr>\n",
              "      <th>1</th>\n",
              "      <td>virginamerica plus add commercials experience ...</td>\n",
              "      <td>positive</td>\n",
              "    </tr>\n",
              "    <tr>\n",
              "      <th>2</th>\n",
              "      <td>virginamerica not today must mean need take an...</td>\n",
              "      <td>neutral</td>\n",
              "    </tr>\n",
              "    <tr>\n",
              "      <th>3</th>\n",
              "      <td>virginamerica really aggressive blast obnoxiou...</td>\n",
              "      <td>negative</td>\n",
              "    </tr>\n",
              "    <tr>\n",
              "      <th>4</th>\n",
              "      <td>virginamerica really big bad thing</td>\n",
              "      <td>negative</td>\n",
              "    </tr>\n",
              "  </tbody>\n",
              "</table>\n",
              "</div>"
            ],
            "text/plain": [
              "                                                text airline_sentiment\n",
              "0                         virginamerica dhepburn say           neutral\n",
              "1  virginamerica plus add commercials experience ...          positive\n",
              "2  virginamerica not today must mean need take an...           neutral\n",
              "3  virginamerica really aggressive blast obnoxiou...          negative\n",
              "4                 virginamerica really big bad thing          negative"
            ]
          },
          "metadata": {
            "tags": []
          },
          "execution_count": 21
        }
      ]
    },
    {
      "cell_type": "code",
      "metadata": {
        "id": "YF_t45uDgRNK"
      },
      "source": [
        "le = preprocessing.LabelEncoder()"
      ],
      "execution_count": 22,
      "outputs": []
    },
    {
      "cell_type": "code",
      "metadata": {
        "id": "RKgcYnrzhmPa"
      },
      "source": [
        "tweet_mini_df[\"sentimentId\"] = le.fit_transform(tweet_mini_df['airline_sentiment'])"
      ],
      "execution_count": 23,
      "outputs": []
    },
    {
      "cell_type": "code",
      "metadata": {
        "colab": {
          "base_uri": "https://localhost:8080/",
          "height": 204
        },
        "id": "nj8xmOJHhwKm",
        "outputId": "f87aa21b-1c58-4049-e1f2-c6d422a5dffd"
      },
      "source": [
        "tweet_mini_df.head()"
      ],
      "execution_count": 24,
      "outputs": [
        {
          "output_type": "execute_result",
          "data": {
            "text/html": [
              "<div>\n",
              "<style scoped>\n",
              "    .dataframe tbody tr th:only-of-type {\n",
              "        vertical-align: middle;\n",
              "    }\n",
              "\n",
              "    .dataframe tbody tr th {\n",
              "        vertical-align: top;\n",
              "    }\n",
              "\n",
              "    .dataframe thead th {\n",
              "        text-align: right;\n",
              "    }\n",
              "</style>\n",
              "<table border=\"1\" class=\"dataframe\">\n",
              "  <thead>\n",
              "    <tr style=\"text-align: right;\">\n",
              "      <th></th>\n",
              "      <th>text</th>\n",
              "      <th>airline_sentiment</th>\n",
              "      <th>sentimentId</th>\n",
              "    </tr>\n",
              "  </thead>\n",
              "  <tbody>\n",
              "    <tr>\n",
              "      <th>0</th>\n",
              "      <td>virginamerica dhepburn say</td>\n",
              "      <td>neutral</td>\n",
              "      <td>1</td>\n",
              "    </tr>\n",
              "    <tr>\n",
              "      <th>1</th>\n",
              "      <td>virginamerica plus add commercials experience ...</td>\n",
              "      <td>positive</td>\n",
              "      <td>2</td>\n",
              "    </tr>\n",
              "    <tr>\n",
              "      <th>2</th>\n",
              "      <td>virginamerica not today must mean need take an...</td>\n",
              "      <td>neutral</td>\n",
              "      <td>1</td>\n",
              "    </tr>\n",
              "    <tr>\n",
              "      <th>3</th>\n",
              "      <td>virginamerica really aggressive blast obnoxiou...</td>\n",
              "      <td>negative</td>\n",
              "      <td>0</td>\n",
              "    </tr>\n",
              "    <tr>\n",
              "      <th>4</th>\n",
              "      <td>virginamerica really big bad thing</td>\n",
              "      <td>negative</td>\n",
              "      <td>0</td>\n",
              "    </tr>\n",
              "  </tbody>\n",
              "</table>\n",
              "</div>"
            ],
            "text/plain": [
              "                                                text  ... sentimentId\n",
              "0                         virginamerica dhepburn say  ...           1\n",
              "1  virginamerica plus add commercials experience ...  ...           2\n",
              "2  virginamerica not today must mean need take an...  ...           1\n",
              "3  virginamerica really aggressive blast obnoxiou...  ...           0\n",
              "4                 virginamerica really big bad thing  ...           0\n",
              "\n",
              "[5 rows x 3 columns]"
            ]
          },
          "metadata": {
            "tags": []
          },
          "execution_count": 24
        }
      ]
    },
    {
      "cell_type": "code",
      "metadata": {
        "id": "l9BI6zjtibzv"
      },
      "source": [
        "labels = tweet_mini_df['sentimentId']"
      ],
      "execution_count": 25,
      "outputs": []
    },
    {
      "cell_type": "code",
      "metadata": {
        "id": "7QpzEPXHjAxg"
      },
      "source": [
        "from sklearn.model_selection import train_test_split\n",
        "\n",
        "X_train, X_test, y_train, y_test = train_test_split(data_features, labels, test_size=0.3, random_state=42)"
      ],
      "execution_count": 26,
      "outputs": []
    },
    {
      "cell_type": "code",
      "metadata": {
        "colab": {
          "base_uri": "https://localhost:8080/"
        },
        "id": "aTGqX8EajLKW",
        "outputId": "e23e981b-0cf4-4ba4-d810-573838a3b0ba"
      },
      "source": [
        "X_train.shape"
      ],
      "execution_count": 27,
      "outputs": [
        {
          "output_type": "execute_result",
          "data": {
            "text/plain": [
              "(10248, 2000)"
            ]
          },
          "metadata": {
            "tags": []
          },
          "execution_count": 27
        }
      ]
    },
    {
      "cell_type": "code",
      "metadata": {
        "colab": {
          "base_uri": "https://localhost:8080/"
        },
        "id": "LY793n0AjQl3",
        "outputId": "c96f8447-0d0e-4c7a-9766-0d6bb16942ed"
      },
      "source": [
        "X_test.shape"
      ],
      "execution_count": 28,
      "outputs": [
        {
          "output_type": "execute_result",
          "data": {
            "text/plain": [
              "(4392, 2000)"
            ]
          },
          "metadata": {
            "tags": []
          },
          "execution_count": 28
        }
      ]
    },
    {
      "cell_type": "code",
      "metadata": {
        "colab": {
          "base_uri": "https://localhost:8080/"
        },
        "id": "FsKOYJO6jSwU",
        "outputId": "533a2cf6-b292-4165-8a20-d810dca3cfe3"
      },
      "source": [
        "\n",
        "\n",
        "forest = RandomForestClassifier(n_estimators=30, n_jobs=4)\n",
        "\n",
        "forest = forest.fit(X_train, y_train)\n",
        "\n",
        "print(forest)\n",
        "\n",
        "print(np.mean(cross_val_score(forest, data_features, labels, cv=10)))"
      ],
      "execution_count": 29,
      "outputs": [
        {
          "output_type": "stream",
          "text": [
            "RandomForestClassifier(bootstrap=True, ccp_alpha=0.0, class_weight=None,\n",
            "                       criterion='gini', max_depth=None, max_features='auto',\n",
            "                       max_leaf_nodes=None, max_samples=None,\n",
            "                       min_impurity_decrease=0.0, min_impurity_split=None,\n",
            "                       min_samples_leaf=1, min_samples_split=2,\n",
            "                       min_weight_fraction_leaf=0.0, n_estimators=30, n_jobs=4,\n",
            "                       oob_score=False, random_state=None, verbose=0,\n",
            "                       warm_start=False)\n",
            "0.726639344262295\n"
          ],
          "name": "stdout"
        }
      ]
    },
    {
      "cell_type": "code",
      "metadata": {
        "colab": {
          "base_uri": "https://localhost:8080/"
        },
        "id": "1cOSfGb1jmiK",
        "outputId": "b45e803a-aec6-40f7-d1ba-cfa834f84ea1"
      },
      "source": [
        "result = forest.predict(X_test)\n",
        "conf_mat = confusion_matrix(y_test, result)\n",
        "print(\"RandomForest Count Vectorization\")\n",
        "\n",
        "print(conf_mat)\n",
        "print(forest.score(X_train,y_train))\n",
        "print(forest.score(X_test,y_test))"
      ],
      "execution_count": 30,
      "outputs": [
        {
          "output_type": "stream",
          "text": [
            "RandomForest Count Vectorization\n",
            "[[2529  221   64]\n",
            " [ 356  453   75]\n",
            " [ 178  120  396]]\n",
            "0.9919984387197502\n",
            "0.7691256830601093\n"
          ],
          "name": "stdout"
        }
      ]
    },
    {
      "cell_type": "code",
      "metadata": {
        "id": "APCOi7MTlDi4"
      },
      "source": [
        "#6 TfidVectorization\n",
        "X_train_tfid, X_test_tfid, y_train_tfid, y_test_tfid = train_test_split(tfid_data_features, labels, test_size=0.3, random_state=42)"
      ],
      "execution_count": 31,
      "outputs": []
    },
    {
      "cell_type": "code",
      "metadata": {
        "colab": {
          "base_uri": "https://localhost:8080/"
        },
        "id": "8RuP8m_Rmvsc",
        "outputId": "e2b0748b-1cfc-45ea-cc30-61af82ab67b0"
      },
      "source": [
        "forestTfid = RandomForestClassifier(n_estimators=30, n_jobs=4)\n",
        "\n",
        "forestTfid = forestTfid.fit(X_train_tfid, y_train_tfid)\n",
        "\n",
        "print(forestTfid)\n",
        "\n",
        "print(np.mean(cross_val_score(forestTfid, tfid_data_features, labels, cv=10)))"
      ],
      "execution_count": 32,
      "outputs": [
        {
          "output_type": "stream",
          "text": [
            "RandomForestClassifier(bootstrap=True, ccp_alpha=0.0, class_weight=None,\n",
            "                       criterion='gini', max_depth=None, max_features='auto',\n",
            "                       max_leaf_nodes=None, max_samples=None,\n",
            "                       min_impurity_decrease=0.0, min_impurity_split=None,\n",
            "                       min_samples_leaf=1, min_samples_split=2,\n",
            "                       min_weight_fraction_leaf=0.0, n_estimators=30, n_jobs=4,\n",
            "                       oob_score=False, random_state=None, verbose=0,\n",
            "                       warm_start=False)\n",
            "0.7224043715846994\n"
          ],
          "name": "stdout"
        }
      ]
    },
    {
      "cell_type": "code",
      "metadata": {
        "colab": {
          "base_uri": "https://localhost:8080/"
        },
        "id": "mBdPFQGJnLwt",
        "outputId": "3f8bb16a-c4da-4d5e-b7af-ba8113a2ddd1"
      },
      "source": [
        "resultTfid = forestTfid.predict(X_test_tfid)\n",
        "conf_mat_tfid = confusion_matrix(y_test_tfid, resultTfid)\n",
        "\n",
        "print(\"RandomForest TFID\")\n",
        "print(conf_mat_tfid)\n",
        "print(forestTfid.score(X_test_tfid,y_test_tfid))"
      ],
      "execution_count": 33,
      "outputs": [
        {
          "output_type": "stream",
          "text": [
            "RandomForest TFID\n",
            "[[2642  130   42]\n",
            " [ 454  372   58]\n",
            " [ 216   98  380]]\n",
            "0.7727686703096539\n"
          ],
          "name": "stdout"
        }
      ]
    },
    {
      "cell_type": "code",
      "metadata": {
        "id": "ylR9n0Dys65f"
      },
      "source": [
        "from sklearn.linear_model import LogisticRegression\n",
        "from sklearn import metrics"
      ],
      "execution_count": 34,
      "outputs": []
    },
    {
      "cell_type": "code",
      "metadata": {
        "colab": {
          "base_uri": "https://localhost:8080/"
        },
        "id": "77h96FwKtLS_",
        "outputId": "c99d806b-841b-4668-d205-3af83387df84"
      },
      "source": [
        "#Logistic Regression on CountVector\n",
        "print(\"Logistic Regression with Counter\")\n",
        "modelCount = LogisticRegression()\n",
        "modelCount.fit(X_train, y_train)\n",
        "y_predict_count_logistic = modelCount.predict(X_test)\n",
        "model_score_count = modelCount.score(X_test, y_test)\n",
        "print(model_score_count)\n",
        "print(metrics.confusion_matrix(y_test, y_predict_count_logistic))\n",
        "print(metrics.classification_report(y_test, y_predict_count_logistic))"
      ],
      "execution_count": 36,
      "outputs": [
        {
          "output_type": "stream",
          "text": [
            "Logistic Regression with Counter\n",
            "0.7928051001821493\n",
            "[[2485  246   83]\n",
            " [ 290  514   80]\n",
            " [ 116   95  483]]\n",
            "              precision    recall  f1-score   support\n",
            "\n",
            "           0       0.86      0.88      0.87      2814\n",
            "           1       0.60      0.58      0.59       884\n",
            "           2       0.75      0.70      0.72       694\n",
            "\n",
            "    accuracy                           0.79      4392\n",
            "   macro avg       0.74      0.72      0.73      4392\n",
            "weighted avg       0.79      0.79      0.79      4392\n",
            "\n"
          ],
          "name": "stdout"
        }
      ]
    },
    {
      "cell_type": "code",
      "metadata": {
        "colab": {
          "base_uri": "https://localhost:8080/"
        },
        "id": "f3e5Hve3oLPa",
        "outputId": "45678c16-5db8-44f0-c532-d0af979226e3"
      },
      "source": [
        "# Logistic Regression on TFID\n",
        "print(\"Logistic Regression with TFID\")\n",
        "modelTfid = LogisticRegression()\n",
        "modelTfid.fit(X_train_tfid, y_train_tfid)\n",
        "y_predict_tfid_logistic = modelTfid.predict(X_test_tfid)\n",
        "model_score_tfid = modelTfid.score(X_test_tfid, y_test_tfid)\n",
        "print(model_score_tfid)\n",
        "print(metrics.confusion_matrix(y_test_tfid, y_predict_tfid_logistic))\n",
        "print(metrics.classification_report(y_test_tfid, y_predict_tfid_logistic))"
      ],
      "execution_count": 37,
      "outputs": [
        {
          "output_type": "stream",
          "text": [
            "Logistic Regression with TFID\n",
            "0.8012295081967213\n",
            "[[2630  142   42]\n",
            " [ 377  452   55]\n",
            " [ 163   94  437]]\n",
            "              precision    recall  f1-score   support\n",
            "\n",
            "           0       0.83      0.93      0.88      2814\n",
            "           1       0.66      0.51      0.58       884\n",
            "           2       0.82      0.63      0.71       694\n",
            "\n",
            "    accuracy                           0.80      4392\n",
            "   macro avg       0.77      0.69      0.72      4392\n",
            "weighted avg       0.79      0.80      0.79      4392\n",
            "\n"
          ],
          "name": "stdout"
        }
      ]
    },
    {
      "cell_type": "markdown",
      "metadata": {
        "id": "CaXc9nRbvw8U"
      },
      "source": [
        "###6. Summarize your understanding"
      ]
    },
    {
      "cell_type": "markdown",
      "metadata": {
        "id": "J54cdYxfwIjf"
      },
      "source": [
        "Summary:\n",
        "\n",
        "\n",
        "*   The Twitter dataset had airline review in text and sentiment in negative, neutral and positive which was converted to 0,1,2 respectively for ML\n",
        "*   Airline review text was cleaned up with\n",
        "\n",
        "1.   Removed the html tags using BeautifulSoup library\n",
        "2.   Removed the contraction such as isn’t to is not using contractions library\n",
        "3.   Tokenized the review using nltk.word_tokenize\n",
        "4.   Once tokenized, removed the non-ascii characters\n",
        "5.   Removed the numbers and punctuation using regex library\n",
        "6.   Converted to lower case\n",
        "7.   Words all went through lemmatization before merged back into the sentences\n",
        "One TextProcessing was done, vectorization took place. Vectorization will convert text into the numbers which is required for ML.\n",
        "\n",
        "*   Two vectorization method is used Count and Tfid and both were limited to 2000 features.\n",
        "*   Once vectorized, I have used RandomForest and LogisticRegression ML algorithms. TfidVector behaved little better than CountVector counterpart in either case.\n",
        "*   The best model score was achieved with Logistic Regression using TFID Vectorization which is 0.80122\n",
        "\n"
      ]
    },
    {
      "cell_type": "code",
      "metadata": {
        "id": "kb9rI3xF0amM"
      },
      "source": [
        ""
      ],
      "execution_count": null,
      "outputs": []
    }
  ]
}